{
 "cells": [
  {
   "cell_type": "code",
   "execution_count": 2,
   "id": "e8f7bfff-dac4-4454-8387-2570ba7fc0f5",
   "metadata": {},
   "outputs": [],
   "source": [
    "##1"
   ]
  },
  {
   "cell_type": "code",
   "execution_count": 38,
   "id": "5565cbc9-56da-42cd-ba3b-1703dd2a88ac",
   "metadata": {},
   "outputs": [],
   "source": [
    "so=[('Sachin Tendulkar', 34357), ('Ricky Ponting', 27483), ('Jack Kallis', 25534), ('Virat Kohli', 24936)]"
   ]
  },
  {
   "cell_type": "code",
   "execution_count": 46,
   "id": "c1c05db2-a7be-4507-8318-d633d5b46286",
   "metadata": {},
   "outputs": [
    {
     "data": {
      "text/plain": [
       "[('Virat Kohli', 24936),\n",
       " ('Jack Kallis', 25534),\n",
       " ('Ricky Ponting', 27483),\n",
       " ('Sachin Tendulkar', 34357)]"
      ]
     },
     "execution_count": 46,
     "metadata": {},
     "output_type": "execute_result"
    }
   ],
   "source": [
    "sorted(so,key=lambda x:x[1])"
   ]
  },
  {
   "cell_type": "code",
   "execution_count": 2,
   "id": "394e4497-5c8e-4854-b96a-a1169761d645",
   "metadata": {},
   "outputs": [],
   "source": [
    "##1"
   ]
  },
  {
   "cell_type": "code",
   "execution_count": 3,
   "id": "92804632-faea-41d2-ab61-0822bd6e14b4",
   "metadata": {},
   "outputs": [],
   "source": [
    "##2"
   ]
  },
  {
   "cell_type": "code",
   "execution_count": 5,
   "id": "8e90223e-a38e-4f98-8880-84e569f7ddd0",
   "metadata": {},
   "outputs": [],
   "source": [
    "l=[1,2,3,4,5,6,7,8,9,10]"
   ]
  },
  {
   "cell_type": "code",
   "execution_count": 6,
   "id": "d12436e2-3094-4d77-99c6-6f90af32000a",
   "metadata": {},
   "outputs": [
    {
     "data": {
      "text/plain": [
       "[1, 4, 9, 16, 25, 36, 49, 64, 81, 100]"
      ]
     },
     "execution_count": 6,
     "metadata": {},
     "output_type": "execute_result"
    }
   ],
   "source": [
    "list(map(lambda x :x**2, l))"
   ]
  },
  {
   "cell_type": "code",
   "execution_count": 7,
   "id": "a09b1236-1f65-4d74-b19a-ec67ebca463b",
   "metadata": {},
   "outputs": [],
   "source": [
    "##3"
   ]
  },
  {
   "cell_type": "code",
   "execution_count": 10,
   "id": "5eb1c3c2-e569-4bc2-9489-58450907464a",
   "metadata": {},
   "outputs": [
    {
     "data": {
      "text/plain": [
       "('1', '2', '3', '4', '5', '6', '7', '8', '9', '10')"
      ]
     },
     "execution_count": 10,
     "metadata": {},
     "output_type": "execute_result"
    }
   ],
   "source": [
    "tuple(map(lambda x: str(x) ,l))"
   ]
  },
  {
   "cell_type": "code",
   "execution_count": 11,
   "id": "eec086c7-0b3c-4584-b1a2-0e3e8599d86b",
   "metadata": {},
   "outputs": [],
   "source": [
    "##4"
   ]
  },
  {
   "cell_type": "code",
   "execution_count": 13,
   "id": "05b0bf96-0326-4ea9-aaec-145923e1905b",
   "metadata": {},
   "outputs": [],
   "source": [
    "from functools import reduce"
   ]
  },
  {
   "cell_type": "code",
   "execution_count": 20,
   "id": "8c502fed-ca0b-4b5c-bf57-b3feeca7e27f",
   "metadata": {},
   "outputs": [],
   "source": [
    "p=list(range(1,26))"
   ]
  },
  {
   "cell_type": "code",
   "execution_count": 37,
   "id": "e0a10c7a-2739-4124-b005-c29def1c5d29",
   "metadata": {},
   "outputs": [
    {
     "data": {
      "text/plain": [
       "620448401733239439360000"
      ]
     },
     "execution_count": 37,
     "metadata": {},
     "output_type": "execute_result"
    }
   ],
   "source": [
    "reduce(lambda x, y: x * y, p)"
   ]
  },
  {
   "cell_type": "code",
   "execution_count": 22,
   "id": "10d924a7-61ab-427f-84d5-b4c80cf01083",
   "metadata": {},
   "outputs": [],
   "source": [
    "##5"
   ]
  },
  {
   "cell_type": "code",
   "execution_count": 23,
   "id": "fb545507-9074-479d-8601-0793527d371d",
   "metadata": {},
   "outputs": [],
   "source": [
    "d=[2, 3, 6, 9, 27, 60, 90, 120, 55, 46]"
   ]
  },
  {
   "cell_type": "code",
   "execution_count": 28,
   "id": "a3e47ac9-2f65-456a-8a8a-51f32fbb369b",
   "metadata": {},
   "outputs": [
    {
     "data": {
      "text/plain": [
       "[6, 60, 90, 120]"
      ]
     },
     "execution_count": 28,
     "metadata": {},
     "output_type": "execute_result"
    }
   ],
   "source": [
    "list(filter(lambda x : x%2==0 and x%3==0 , d))"
   ]
  },
  {
   "cell_type": "code",
   "execution_count": 29,
   "id": "59c208f5-c33d-4d39-b6aa-a36b7f332d13",
   "metadata": {},
   "outputs": [],
   "source": [
    "##6"
   ]
  },
  {
   "cell_type": "code",
   "execution_count": 30,
   "id": "9cc545b4-a856-43a1-a22f-4148befaf6cd",
   "metadata": {},
   "outputs": [],
   "source": [
    "s=['python', 'php', 'aba', 'radar', 'level']"
   ]
  },
  {
   "cell_type": "code",
   "execution_count": 33,
   "id": "e2b8a671-b523-4410-b766-59575581dde2",
   "metadata": {},
   "outputs": [
    {
     "data": {
      "text/plain": [
       "['php', 'aba', 'radar', 'level']"
      ]
     },
     "execution_count": 33,
     "metadata": {},
     "output_type": "execute_result"
    }
   ],
   "source": [
    "list(filter(lambda x : x[::-1]==x ,s))"
   ]
  },
  {
   "cell_type": "code",
   "execution_count": null,
   "id": "a9b76bec-6b50-47e7-a3fa-f8a9c03da6ac",
   "metadata": {},
   "outputs": [],
   "source": []
  }
 ],
 "metadata": {
  "kernelspec": {
   "display_name": "Python 3 (ipykernel)",
   "language": "python",
   "name": "python3"
  },
  "language_info": {
   "codemirror_mode": {
    "name": "ipython",
    "version": 3
   },
   "file_extension": ".py",
   "mimetype": "text/x-python",
   "name": "python",
   "nbconvert_exporter": "python",
   "pygments_lexer": "ipython3",
   "version": "3.10.8"
  }
 },
 "nbformat": 4,
 "nbformat_minor": 5
}
